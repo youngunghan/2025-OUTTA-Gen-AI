{
  "nbformat": 4,
  "nbformat_minor": 0,
  "metadata": {
    "colab": {
      "provenance": [],
      "gpuType": "T4"
    },
    "kernelspec": {
      "name": "python3",
      "display_name": "Python 3"
    },
    "language_info": {
      "name": "python"
    },
    "accelerator": "GPU"
  },
  "cells": [
    {
      "cell_type": "markdown",
      "source": [
        "## **VAE Pytorch**\n",
        "\n",
        "- 깃허브 : [주소](https://github.com/Jackson-Kang/Pytorch-VAE-tutorial)\n"
      ],
      "metadata": {
        "id": "HY5NCPUrWA7r"
      }
    },
    {
      "cell_type": "code",
      "source": [
        "import torch\n",
        "import torch.nn as nn\n",
        "\n",
        "import numpy as np\n",
        "\n",
        "from tqdm import tqdm\n",
        "from torchvision.utils import save_image, make_grid"
      ],
      "metadata": {
        "id": "wYPZQ-R3Ae1X"
      },
      "execution_count": null,
      "outputs": []
    },
    {
      "cell_type": "code",
      "source": [
        "# 모델 하이퍼파라미터\n",
        "\n",
        "dataset_path = '~/datasets'\n",
        "\n",
        "cuda = True\n",
        "DEVICE = torch.device(\"cuda\" if cuda else \"cpu\")\n",
        "\n",
        "batch_size = 100\n",
        "\n",
        "x_dim = 784\n",
        "hidden_dim = 400\n",
        "latent_dim = 200\n",
        "\n",
        "lr = 1e-3\n",
        "\n",
        "epochs = 30"
      ],
      "metadata": {
        "id": "qhcackCFAuyI"
      },
      "execution_count": null,
      "outputs": []
    },
    {
      "cell_type": "markdown",
      "source": [
        "### Step 1. Load (or download) Dataset\n"
      ],
      "metadata": {
        "id": "o3ZYmLqEEloE"
      }
    },
    {
      "cell_type": "code",
      "source": [
        "from torchvision.datasets import MNIST\n",
        "import torchvision.transforms as transforms\n",
        "from torch.utils.data import DataLoader\n",
        "\n",
        "mnist_transform = transforms.Compose([\n",
        "        transforms.ToTensor(),\n",
        "])\n",
        "kwargs = {'num_workers': 1, 'pin_memory': True}\n",
        "\n",
        "train_dataset = MNIST(dataset_path, transform=mnist_transform, train=True, download=True)\n",
        "test_dataset  = MNIST(dataset_path, transform=mnist_transform, train=False, download=True)\n",
        "\n",
        "train_loader = DataLoader(dataset=train_dataset, batch_size=batch_size, shuffle=True, **kwargs)\n",
        "test_loader  = DataLoader(dataset=test_dataset,  batch_size=batch_size, shuffle=False, **kwargs)"
      ],
      "metadata": {
        "colab": {
          "base_uri": "https://localhost:8080/"
        },
        "id": "PTY4RRnTEk9Z",
        "outputId": "b8d57811-2fb2-46c6-a933-900a1d930a58"
      },
      "execution_count": null,
      "outputs": [
        {
          "output_type": "stream",
          "name": "stderr",
          "text": [
            "100%|██████████| 9.91M/9.91M [00:00<00:00, 12.9MB/s]\n",
            "100%|██████████| 28.9k/28.9k [00:00<00:00, 341kB/s]\n",
            "100%|██████████| 1.65M/1.65M [00:00<00:00, 3.22MB/s]\n",
            "100%|██████████| 4.54k/4.54k [00:00<00:00, 6.93MB/s]\n"
          ]
        }
      ]
    },
    {
      "cell_type": "markdown",
      "source": [
        "### Step 2. Define our model: Variational AutoEncodier (VAE)"
      ],
      "metadata": {
        "id": "5uQC3-YdFw3K"
      }
    },
    {
      "cell_type": "code",
      "source": [
        "\"\"\"\n",
        "    A simple implementation of Gaussian MLP Encoder and Decoder\n",
        "\"\"\"\n",
        "\n",
        "# 인코더 정의 (Gaussian Encoder: 입력 x → 평균 μ, 로그 분산 log(σ^2))\n",
        "class Encoder(nn.Module):\n",
        "\n",
        "    def __init__(self, input_dim, hidden_dim, latent_dim):\n",
        "        super(Encoder, self).__init__()\n",
        "\n",
        "        self.FC_input = nn.Linear(input_dim, hidden_dim)\n",
        "        self.FC_input2 = nn.Linear(hidden_dim, hidden_dim)\n",
        "        self.FC_mean = nn.Linear(hidden_dim, latent_dim)\n",
        "        self.FC_var = nn.Linear(hidden_dim, latent_dim)\n",
        "\n",
        "        self.LeaktyReLU = nn.LeakyReLU(0.2)\n",
        "\n",
        "        self.training\n",
        "\n",
        "    def forward(self, x):\n",
        "        # 인코더를 통해 입력 x를 잠재 벡터의 평균과 로그 분산으로 매핑\n",
        "        h_ = self.LeaktyReLU(self.FC_input(x))\n",
        "        h_ = self.LeaktyReLU(self.FC_input2(h_))\n",
        "        mean = self.FC_mean(h_)\n",
        "        log_var = self.FC_var(h_)\n",
        "\n",
        "        return mean, log_var"
      ],
      "metadata": {
        "id": "xR31cU2UFv9U"
      },
      "execution_count": null,
      "outputs": []
    },
    {
      "cell_type": "code",
      "source": [
        "# 디코더 정의(잠재 벡터 z -> 복원된 입력 x̂)\n",
        "class Decoder(nn.Module):\n",
        "    def __init__(self, latent_dim, hidden_dim, output_dim):\n",
        "        super(Decoder, self).__init__()\n",
        "        self.FC_hidden = nn.Linear(latent_dim, hidden_dim)\n",
        "        self.FC_hidden2 = nn.Linear(hidden_dim, hidden_dim)\n",
        "        self.FC_output = nn.Linear(hidden_dim, output_dim)\n",
        "\n",
        "        # 비선형 활성함수\n",
        "        self.LeaktyReLU = nn.LeakyReLU(0.2)\n",
        "\n",
        "    # 디코더를 통해 잠재 벡터 z를 복원된 입력 x̂으로 변환\n",
        "    def forward(self, x):\n",
        "        h = self.LeaktyReLU(self.FC_hidden(x))\n",
        "        h = self.LeaktyReLU(self.FC_hidden2(h))\n",
        "\n",
        "        # 출력은 [0,1] 범위로 제한 - binary 이미지 reconstruction\n",
        "        x_hat = torch.sigmoid(self.FC_output(h))\n",
        "        return x_hat"
      ],
      "metadata": {
        "id": "_3kPRpdnKu-7"
      },
      "execution_count": null,
      "outputs": []
    },
    {
      "cell_type": "code",
      "source": [
        "# 전체 VAE 모델 정의 (인코더 + 디코더 + 재매개변수화)\n",
        "class Model(nn.Module):\n",
        "    def __init__(self, Encoder, Decoder):\n",
        "        super(Model, self).__init__()\n",
        "        self.Encoder = Encoder\n",
        "        self.Decoder = Decoder\n",
        "\n",
        "    # 재매개변수화 함수: z = μ + σ * ε, ε ~ N(0,1)\n",
        "    def reparameterization(self, mean, var):\n",
        "        epsilon = torch.randn_like(var).to(DEVICE) # 표준 정규분포에서 샘플링된 ε\n",
        "        z = mean + var*epsilon  # 재매개변수화 트릭 적용\n",
        "        return z\n",
        "\n",
        "    def forward(self, x):\n",
        "        # 인코더: 입력 x를 평균 μ와 로그 분산 log(σ^2)로 인코딩\n",
        "        mean, log_var = self.Encoder(x)\n",
        "        # 재매개변수화: z = μ + σ * ε (σ = exp(0.5 * log_var))\n",
        "        z = self.reparameterization(mean, torch.exp(0.5 * log_var))\n",
        "        # 디코더: z로부터 복원된 입력 x̂ 생성\n",
        "        x_hat = self.Decoder(z)\n",
        "\n",
        "        # 출력: 복원된 입력, 평균, 로그 분산 (loss 계산에 필요)\n",
        "        return x_hat, mean, log_var"
      ],
      "metadata": {
        "id": "fWnLf5W9Lid8"
      },
      "execution_count": null,
      "outputs": []
    },
    {
      "cell_type": "code",
      "source": [
        "# 모델 초기화\n",
        "encoder = Encoder(input_dim=x_dim, hidden_dim=hidden_dim, latent_dim=latent_dim)\n",
        "decoder = Decoder(latent_dim=latent_dim, hidden_dim=hidden_dim, output_dim=x_dim)\n",
        "\n",
        "model = Model(Encoder=encoder, Decoder=decoder).to(DEVICE)"
      ],
      "metadata": {
        "id": "hisc8i6KNKqN"
      },
      "execution_count": null,
      "outputs": []
    },
    {
      "cell_type": "markdown",
      "source": [
        "### Step 3. Define Loss function (reprod.loss) and optimizer"
      ],
      "metadata": {
        "id": "ldkFbu0KNbe4"
      }
    },
    {
      "cell_type": "code",
      "source": [
        "from torch.optim import Adam\n",
        "\n",
        "# Binary Cross Entropy Loss\n",
        "BCE_loss = nn.BCELoss()\n",
        "\n",
        "# VAE의 손실 함수 = Reconstruction Loss + KL Divergence\n",
        "def loss_function(x, x_hat, mean, log_var):\n",
        "    # Reconstruction Loss (입력과 복원된 출력의 차이)\n",
        "    # BCE 기반, sum을 통해 전체 이미지에 대한 손실 계산\n",
        "    reproduction_loss = nn.functional.binary_cross_entropy(x_hat, x, reduction='sum')\n",
        "    # Kullback-Leibler Divergence (정규분포 prior와의 차이): regularization 역할\n",
        "    # 수식: KL(N(μ, σ^2) || N(0, 1)) = -0.5 * ∑(1 + log(σ^2) - μ^2 - σ^2)\n",
        "    KLD = -0.5 * torch.sum(1+log_var - mean.pow(2) - log_var.exp())\n",
        "\n",
        "    # 총 손실: reconstruction + KL divergence\n",
        "    return reproduction_loss + KLD\n",
        "\n",
        "optimizer = Adam(model.parameters(), lr=lr)"
      ],
      "metadata": {
        "id": "6CdC37UcNYEk"
      },
      "execution_count": null,
      "outputs": []
    },
    {
      "cell_type": "markdown",
      "source": [
        "### Step 4. Train Variational AutoEncoder (VAE)"
      ],
      "metadata": {
        "id": "-_iX4TKNOAF8"
      }
    },
    {
      "cell_type": "code",
      "source": [
        "# VAE 학습 시작\n",
        "print(\"Start training VAE...\")\n",
        "model.train()\n",
        "\n",
        "for epoch in range(epochs):\n",
        "    overall_loss = 0\n",
        "    # # 미니배치 단위 학습\n",
        "    for batch_idx, (x,_) in enumerate(train_loader):\n",
        "        x = x.view(batch_size, x_dim)\n",
        "        x = x.to(DEVICE)\n",
        "\n",
        "        optimizer.zero_grad()\n",
        "\n",
        "        x_hat, mean, log_var = model(x)\n",
        "        loss = loss_function(x, x_hat, mean, log_var)\n",
        "\n",
        "        overall_loss += loss.item()\n",
        "\n",
        "        loss.backward()\n",
        "        optimizer.step()\n",
        "\n",
        "    print(\"\\tEpoch\", epoch+1, \"complete!\", \"\\tAverage Loss: \", overall_loss/(batch_idx*batch_size))\n",
        "\n",
        "print(\"Finish!!\")"
      ],
      "metadata": {
        "colab": {
          "base_uri": "https://localhost:8080/"
        },
        "id": "9HHizdySOE5y",
        "outputId": "9bf57884-7e46-4a60-dc79-79115f54efa3"
      },
      "execution_count": null,
      "outputs": [
        {
          "output_type": "stream",
          "name": "stdout",
          "text": [
            "Start training VAE...\n",
            "\tEpoch 1 complete! \tAverage Loss:  173.5641397772329\n",
            "\tEpoch 2 complete! \tAverage Loss:  128.00227100506052\n",
            "\tEpoch 3 complete! \tAverage Loss:  117.05301977905884\n",
            "\tEpoch 4 complete! \tAverage Loss:  113.12756030558744\n",
            "\tEpoch 5 complete! \tAverage Loss:  110.69854131886477\n",
            "\tEpoch 6 complete! \tAverage Loss:  108.79166845458577\n",
            "\tEpoch 7 complete! \tAverage Loss:  107.49302431135226\n",
            "\tEpoch 8 complete! \tAverage Loss:  106.38821090163293\n",
            "\tEpoch 9 complete! \tAverage Loss:  105.5972297742331\n",
            "\tEpoch 10 complete! \tAverage Loss:  104.93155568525668\n",
            "\tEpoch 11 complete! \tAverage Loss:  104.4862721560674\n",
            "\tEpoch 12 complete! \tAverage Loss:  104.01021918040485\n",
            "\tEpoch 13 complete! \tAverage Loss:  103.60209303917988\n",
            "\tEpoch 14 complete! \tAverage Loss:  103.20453617357053\n",
            "\tEpoch 15 complete! \tAverage Loss:  102.86818096893259\n",
            "\tEpoch 16 complete! \tAverage Loss:  102.54828369548206\n",
            "\tEpoch 17 complete! \tAverage Loss:  102.29460908154215\n",
            "\tEpoch 18 complete! \tAverage Loss:  102.08133564078152\n",
            "\tEpoch 19 complete! \tAverage Loss:  101.88857461002713\n",
            "\tEpoch 20 complete! \tAverage Loss:  101.65049765559787\n",
            "\tEpoch 21 complete! \tAverage Loss:  101.48820571721097\n",
            "\tEpoch 22 complete! \tAverage Loss:  101.31119331372601\n",
            "\tEpoch 23 complete! \tAverage Loss:  101.16274583615922\n",
            "\tEpoch 24 complete! \tAverage Loss:  101.04853738979027\n",
            "\tEpoch 25 complete! \tAverage Loss:  100.91635743817821\n",
            "\tEpoch 26 complete! \tAverage Loss:  100.80831856805614\n",
            "\tEpoch 27 complete! \tAverage Loss:  100.6493557132982\n",
            "\tEpoch 28 complete! \tAverage Loss:  100.56431601497287\n",
            "\tEpoch 29 complete! \tAverage Loss:  100.45624763603402\n",
            "\tEpoch 30 complete! \tAverage Loss:  100.33492536388773\n",
            "Finish!!\n"
          ]
        }
      ]
    },
    {
      "cell_type": "markdown",
      "source": [
        "### Step 5. Generate images from test dataset"
      ],
      "metadata": {
        "id": "EM4FLe_yOfys"
      }
    },
    {
      "cell_type": "code",
      "source": [
        "import matplotlib.pyplot as plt\n",
        "from tqdm import tqdm"
      ],
      "metadata": {
        "id": "tHHvpkMEOjn_"
      },
      "execution_count": null,
      "outputs": []
    },
    {
      "cell_type": "code",
      "source": [
        "# # 모델을 평가 모드로 전환 (dropout, batchnorm 비활성화)\n",
        "model.eval()\n",
        "\n",
        "with torch.no_grad():\n",
        "    for batch_idx, (x, _) in enumerate(tqdm(test_loader)):\n",
        "        # 입력 이미지를 1차원으로 평탄화 (ex. 28x28 → 784)\n",
        "        x = x.view(batch_size, x_dim)\n",
        "        x = x.to(DEVICE)\n",
        "\n",
        "        # VAE 모델을 통해 이미지 복원\n",
        "        x_hat, _, _ = model(x) # x_hat: 복원된 이미지 (decoder 출력)\n",
        "\n",
        "        # 하나의 배치만 확인하고 반복 종료\n",
        "        break"
      ],
      "metadata": {
        "colab": {
          "base_uri": "https://localhost:8080/"
        },
        "id": "OLCch-dTOlh4",
        "outputId": "4c41d45a-002f-4f21-8a56-9887d2921d09"
      },
      "execution_count": null,
      "outputs": [
        {
          "output_type": "stream",
          "name": "stderr",
          "text": [
            "  0%|          | 0/100 [00:00<?, ?it/s]\n"
          ]
        }
      ]
    },
    {
      "cell_type": "code",
      "source": [
        "# 이미지 시각화 함수 정의\n",
        "def show_image(x, idx):\n",
        "    # (batch_size, 784) → (batch_size, 28, 28)로 reshape\n",
        "    x = x.view(batch_size, 28, 28)\n",
        "\n",
        "    fig = plt.figure()\n",
        "    # 선택된 인덱스의 이미지를 시각화\n",
        "    plt.imshow(x[idx].cpu().numpy())"
      ],
      "metadata": {
        "id": "iC5at-BOPN42"
      },
      "execution_count": null,
      "outputs": []
    },
    {
      "cell_type": "code",
      "source": [
        "# 원본 이미지와 복원된 이미지 시각화 (idx=0)\n",
        "show_image(x, idx=0) # 입력 이미지"
      ],
      "metadata": {
        "colab": {
          "base_uri": "https://localhost:8080/",
          "height": 430
        },
        "id": "QFSA8trCPZcq",
        "outputId": "69d5d4c6-acdc-460b-c99f-5d991d59bdb0"
      },
      "execution_count": null,
      "outputs": [
        {
          "output_type": "display_data",
          "data": {
            "text/plain": [
              "<Figure size 640x480 with 1 Axes>"
            ],
            "image/png": "[encoded data removed]"
          },
          "metadata": {}
        }
      ]
    },
    {
      "cell_type": "code",
      "source": [
        "show_image(x_hat, idx=0)  # 복원된 이미지"
      ],
      "metadata": {
        "colab": {
          "base_uri": "https://localhost:8080/",
          "height": 430
        },
        "id": "xDNJ9nM-QUer",
        "outputId": "ce4f3005-02ad-469e-ecec-c1010248b33f"
      },
      "execution_count": null,
      "outputs": [
        {
          "output_type": "display_data",
          "data": {
            "text/plain": [
              "<Figure size 640x480 with 1 Axes>"
            ],
            "image/png": "[encoded data removed]"
          },
          "metadata": {}
        }
      ]
    },
    {
      "cell_type": "markdown",
      "source": [
        "### Step 6. Generate image from noise vector\n",
        "\n",
        "```\n",
        "주의: 이는 완전히 정형화된 생성 과정은 아니지만, VAE의 훈련 구조상 가능함.\n",
        "\n",
        "이유: VAE는 q(z|x)가 정규분포 N(0, I)와 가깝도록 학습되므로,\n",
        "학습된 모델에서는 z ~ N(0, I)에서 샘플링한 z를 decoder에 넣으면 plausible한 이미지가 생성됨.\n",
        "\n",
        "이 방식은 GAN의 generator 사용 방식과 유사함.\n",
        "\n",
        "```\n",
        "- N(0, I)에서 z를 샘플링하여 decoder에 직접 입력하고 이미지를 생성.\n",
        "→ 잠재 공간이 학습되었음을 검증하는 간접적 방식\n"
      ],
      "metadata": {
        "id": "8sC4i1xjQe6K"
      }
    },
    {
      "cell_type": "code",
      "source": [
        "with torch.no_grad():\n",
        "    # 정규분포에서 랜덤 잠재 벡터 z 생성 (N(0, I))\n",
        "    noise = torch.randn(batch_size, latent_dim).to(DEVICE)\n",
        "    # Decoder에 입력하여 이미지 생성\n",
        "    generated_images = decoder(noise)"
      ],
      "metadata": {
        "id": "D3MoytWVQVz-"
      },
      "execution_count": null,
      "outputs": []
    },
    {
      "cell_type": "code",
      "source": [
        "save_image(generated_images.view(batch_size, 1, 28, 28), 'generated_sample.png')"
      ],
      "metadata": {
        "id": "yY_euA3UQ_Sl"
      },
      "execution_count": null,
      "outputs": []
    },
    {
      "cell_type": "code",
      "source": [
        "show_image(generated_images, idx=12)"
      ],
      "metadata": {
        "colab": {
          "base_uri": "https://localhost:8080/",
          "height": 430
        },
        "id": "FbjRKhm-RM2P",
        "outputId": "6ca4e852-0bb1-450f-8835-d0f323e11a9e"
      },
      "execution_count": null,
      "outputs": [
        {
          "output_type": "display_data",
          "data": {
            "text/plain": [
              "<Figure size 640x480 with 1 Axes>"
            ],
            "image/png": "[encoded data removed]"
          },
          "metadata": {}
        }
      ]
    },
    {
      "cell_type": "code",
      "source": [
        "show_image(generated_images, idx=0)"
      ],
      "metadata": {
        "colab": {
          "base_uri": "https://localhost:8080/",
          "height": 430
        },
        "id": "wGLfMgPGRPpx",
        "outputId": "855a4ebf-8110-443b-832d-ba7625b9a085"
      },
      "execution_count": null,
      "outputs": [
        {
          "output_type": "display_data",
          "data": {
            "text/plain": [
              "<Figure size 640x480 with 1 Axes>"
            ],
            "image/png": "[encoded data removed]"
          },
          "metadata": {}
        }
      ]
    },
    {
      "cell_type": "code",
      "source": [
        "show_image(generated_images, idx=1)"
      ],
      "metadata": {
        "colab": {
          "base_uri": "https://localhost:8080/",
          "height": 430
        },
        "id": "Ud9_eJvYRgxg",
        "outputId": "8d509b5b-c394-45eb-fbd3-6b081047ea0e"
      },
      "execution_count": null,
      "outputs": [
        {
          "output_type": "display_data",
          "data": {
            "text/plain": [
              "<Figure size 640x480 with 1 Axes>"
            ],
            "image/png": "[encoded data removed]"
          },
          "metadata": {}
        }
      ]
    },
    {
      "cell_type": "code",
      "source": [
        "show_image(generated_images, idx=10)"
      ],
      "metadata": {
        "colab": {
          "base_uri": "https://localhost:8080/",
          "height": 430
        },
        "id": "S89klDVWRiRX",
        "outputId": "01632a38-3543-4393-d7af-d5a3b4d2e786"
      },
      "execution_count": null,
      "outputs": [
        {
          "output_type": "display_data",
          "data": {
            "text/plain": [
              "<Figure size 640x480 with 1 Axes>"
            ],
            "image/png": "[encoded data removed]"
          },
          "metadata": {}
        }
      ]
    },
    {
      "cell_type": "code",
      "source": [
        "show_image(generated_images, idx=20)"
      ],
      "metadata": {
        "colab": {
          "base_uri": "https://localhost:8080/",
          "height": 430
        },
        "id": "79kxED7bRk2n",
        "outputId": "105315de-4c91-4d43-f625-77e14bdc5573"
      },
      "execution_count": null,
      "outputs": [
        {
          "output_type": "display_data",
          "data": {
            "text/plain": [
              "<Figure size 640x480 with 1 Axes>"
            ],
            "image/png": "[encoded data removed]"
          },
          "metadata": {}
        }
      ]
    },
    {
      "cell_type": "code",
      "source": [
        "show_image(generated_images, idx=50)"
      ],
      "metadata": {
        "colab": {
          "base_uri": "https://localhost:8080/",
          "height": 430
        },
        "id": "GXo01bxSRlzV",
        "outputId": "4157db44-2a6b-4621-98f7-8f6a9d0ce456"
      },
      "execution_count": null,
      "outputs": [
        {
          "output_type": "display_data",
          "data": {
            "text/plain": [
              "<Figure size 640x480 with 1 Axes>"
            ],
            "image/png": "[encoded data removed]"
          },
          "metadata": {}
        }
      ]
    },
    {
      "cell_type": "markdown",
      "source": [
        "- `idx`는 단지 하나의 샘플을 선택하기 위한 인덱스일 뿐이고, 특별한 의미를 갖지는 않음.\n",
        "- 하지만 잠재공간 z의 값이 달라지면 생성되는 이미지의 특성도 달라지므로, `idx`는 간접적으로 \"잠재벡터의 다양성\"을 보여줄 수 있는 창구가 되기도 함.\n",
        "- 즉, `idx`가 의미하는 것은 **\"특정 z에 해당하는 하나의 샘플\"**이며,\n",
        "z가 달라지면 생성되는 이미지 스타일, 클래스, 형태 등이 달라질 수 있음!!"
      ],
      "metadata": {
        "id": "cBiOZ-bTRz9H"
      }
    }
  ]
}
